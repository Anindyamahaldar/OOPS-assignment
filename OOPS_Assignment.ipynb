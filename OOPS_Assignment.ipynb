{
  "nbformat": 4,
  "nbformat_minor": 0,
  "metadata": {
    "colab": {
      "provenance": []
    },
    "kernelspec": {
      "name": "python3",
      "display_name": "Python 3"
    },
    "language_info": {
      "name": "python"
    }
  },
  "cells": [
    {
      "cell_type": "markdown",
      "source": [
        "#Python OOPs\n"
      ],
      "metadata": {
        "id": "dWjPv2aIxtxW"
      }
    },
    {
      "cell_type": "markdown",
      "source": [
        "#Assignment Questions"
      ],
      "metadata": {
        "id": "r7SavPRFxyHo"
      }
    },
    {
      "cell_type": "markdown",
      "source": [
        "#Python OOPs Questions"
      ],
      "metadata": {
        "id": "lL5K_m1qx0FH"
      }
    },
    {
      "cell_type": "markdown",
      "source": [
        "1. What is Object-Oriented Programming (OOP)?\n",
        "   - Object-oriented programming (OOP) is a programming model that organizes software design around objects, rather than logic and functions. In OOP, objects are data fields with unique behaviors and attributes.\n",
        "\n",
        "2. What is a class in OOP?\n",
        "   - In object-oriented programming (OOP), a \"class\" is a blueprint or template that defines the properties (variables) and behaviors (methods) of a group of objects, essentially acting as a design for creating individual objects with similar characteristics; it is considered the fundamental building block for creating objects within a program.\n",
        "\n",
        "3. What is an object in OOP?\n",
        "   - In Object-Oriented Programming (OOP), an \"object\" is a fundamental building block that represents a real-world entity with specific properties (data) and behaviors (methods), essentially acting as an instance of a class, allowing you to create multiple similar entities with unique characteristics within a program; it encapsulates data and functionality related to that entity, enabling interaction with other objects within the system.\n",
        "\n",
        "4. What is the difference between abstraction and encapsulation?\n",
        "   - In object-oriented programming, abstraction focuses on hiding unnecessary details and presenting only the essential functionalities of an object, while encapsulation involves bundling data and methods together within a single unit, controlling access to the data through specific methods, essentially protecting the internal state of an object; abstraction is more about \"what\" an object does, while encapsulation is about \"how\" it does it.\n",
        "\n",
        "5. What are dunder methods in Python?\n",
        "   - Dunder methods, also known as magic methods or special methods, are predefined methods in Python that have double underscores (or “dunders”) at the beginning and end of their names. These methods provide a way to define specific behaviors for built-in operations or functionalities in Python classes.\n",
        "\n",
        "6. Explain the concept of inheritance in OOP.\n",
        "   - In object-oriented programming (OOP), inheritance is a mechanism that allows a new class (called a subclass or child class) to acquire the properties and behaviors (methods) of an existing class (called a superclass or parent class), essentially creating a hierarchical relationship between classes and enabling code reuse by inheriting attributes and methods from the parent class while allowing the subclass to add its own unique functionalities.\n",
        "\n",
        "7. What is polymorphism in OOP?\n",
        "   - In object-oriented programming (OOP), polymorphism refers to the ability of an object to take on multiple forms, meaning a single variable or method can be used with different types of objects, allowing them to respond differently to the same message depending on their specific class, often achieved through inheritance and method overriding; essentially, it's the concept of one interface with multiple implementations depending on the object type involved.\n",
        "\n",
        "8. How is encapsulation achieved in Python?\n",
        "   - Encapsulation is achieved by declaring a class's data members and methods as either private or protected. But in Python, we do not have keywords like public, private, and protected, as in the case of Java. Instead, we achieve this by using single and double underscores.\n",
        "\n",
        "9. What is a constructor in Python?\n",
        "   - Constructors in Python is a special class method for creating and initializing an object instance at that class. Every Python class has a constructor; it's not required to be defined explicitly. The purpose of the constructor is to construct an object and assign a value to the object's members.\n",
        "\n",
        "10. What are class and static methods in Python?\n",
        "    - A class method takes cls as the first parameter while a static method needs no specific parameters. A class method can access or modify the class state while a static method can't access or modify it. In general, static methods know nothing about the class state.\n",
        "\n",
        "11. What is method overloading in Python?\n",
        "    - Two or more methods have the same name but different numbers of parameters or different types of parameters, or both. These methods are called overloaded methods and this is called method overloading.\n",
        "\n",
        "12. What is method overriding in OOP?\n",
        "    - Method overriding, in object-oriented programming, is a language feature that allows a subclass or child class to provide a specific implementation of a method that is already provided by one of its superclasses or parent classes.\n",
        "\n",
        "13. What is a property decorator in Python?\n",
        "    - The Python property decorator makes attributes in a class act like read-only properties. Essentially, it lets you access methods as if they were attributes, without needing to write parentheses.\n",
        "\n",
        "14. Why is polymorphism important in OOP?\n",
        "    - Polymorphism is crucial in object-oriented programming (OOP) because it allows developers to write more flexible and reusable code by enabling a single method name to perform different actions depending on the object type, essentially letting you treat different objects with the same interface in a consistent way, reducing code redundancy and improving maintainability.\n",
        "\n",
        "15. What is an abstract class in Python?\n",
        "    - In Python, an abstract class is a class that cannot be instantiated on its own and is designed to be a blueprint for other classes. Abstract classes allow us to define methods that must be implemented by subclasses, ensuring a consistent interface while still allowing the subclasses to provide specific implementations.\n",
        "\n",
        "16. What are the advantages of OOP?\n",
        "    - Object-Oriented Programming (OOP) offers several advantages including: increased code reusability through inheritance, improved code maintainability by encapsulating data within objects, better modularity by breaking down complex systems into smaller manageable units, enhanced flexibility with polymorphism, and easier problem-solving by modeling real-world entities as objects; all contributing to more organized, scalable, and efficient software development.\n",
        "\n",
        "17. What is the difference between a class variable and an instance variable?\n",
        "    - Class variables are defined within the class but outside of any class methods. Instance variables are defined within class methods, typically the constructor. Changes made to the class variable affect all instances. Changes made to the instance variable does not affect all instances.\n",
        "\n",
        "18. What is multiple inheritance in Python?\n",
        "    - When a class is derived from more than one base class it is called multiple Inheritance. The derived class inherits all the features of the base case.\n",
        "\n",
        "19. Explain the purpose of ‘’__str__’ and ‘__repr__’ ‘ methods in Python.\n",
        "    - In Python, the __str__ method is used to provide a human-readable string representation of an object, typically intended for end-users when printed, while __repr__ provides a more detailed, unambiguous representation, primarily used for debugging and development purposes, allowing you to potentially recreate the object from the string output; essentially, __str__ is for user-friendly display, and __repr__ is for developer-oriented information.\n",
        "\n",
        "20. What is the significance of the ‘super()’ function in Python?\n",
        "    - In Python, super() is a built-in function that allows access to methods and properties of a parent or superclass from a child or subclass. This is useful when working with inheritance in object-oriented programming.\n",
        "\n",
        "21. What is the significance of the __del__ method in Python?\n",
        "    - The __del__ method in Python is a powerful tool for managing resource cleanup when objects are destroyed. It allows you to define specific actions that should be taken when an object is garbage collected, such as closing files, releasing locks, or closing network connections.\n",
        "\n",
        "22. What is the difference between @staticmethod and @classmethod in Python?\n",
        "    - The Difference between Class Method and Static method is stated below. While a static method requires no specific parameters, a class method takes cls as its first argument. While a static method cannot access or modify the class state, a class method can. Static methods are typically unaware of the class state.\n",
        "\n",
        "23. How does polymorphism work in Python with inheritance?\n",
        "    - Polymorphism, a child class method is allowed to have the same name as the class methods in the parent class. In inheritance, the methods belonging to the parent class are passed down to the child class. It's also possible to change a method that a child class has inherited from its parent.\n",
        "\n",
        "24. What is method chaining in Python OOP?\n",
        "    - Method chaining refers to calling multiple methods sequentially on the same object in a single expression. Each method call returns an object, often the same object (modified or not), allowing the subsequent method to operate on that object.\n",
        "\n",
        "25. What is the purpose of the __call__ method in Python?\n",
        "    - In Python, the __call__ method allows you to define a class where instances can be directly called like a function, meaning you can use the object name with parentheses to execute its defined behavior; essentially, it enables you to treat an object as if it were a function."
      ],
      "metadata": {
        "id": "XW_qaUilx8In"
      }
    },
    {
      "cell_type": "markdown",
      "source": [
        "#Practical Questions"
      ],
      "metadata": {
        "id": "7sSe7q571cVf"
      }
    },
    {
      "cell_type": "markdown",
      "source": [
        "# 1. Create a parent class Animal with a method speak() that prints a generic message. Create a child class Dog that overrides the speak() method to print \"Bark!\"."
      ],
      "metadata": {
        "id": "SArlQl9v1d3m"
      }
    },
    {
      "cell_type": "code",
      "execution_count": 1,
      "metadata": {
        "colab": {
          "base_uri": "https://localhost:8080/"
        },
        "id": "NkwIS3FkiwF7",
        "outputId": "640fd719-7f01-4a16-8f36-e6eb9e4718dd"
      },
      "outputs": [
        {
          "output_type": "stream",
          "name": "stdout",
          "text": [
            "Generic animal sound\n",
            "Bark!\n"
          ]
        }
      ],
      "source": [
        "# prompt: Create a parent class Animal with a method speak() that prints a generic message. Create a child class Dog that overrides the speak() method to print \"Bark!\"\n",
        "\n",
        "class Animal:\n",
        "    def speak(self):\n",
        "        print(\"Generic animal sound\")\n",
        "\n",
        "class Dog(Animal):\n",
        "    def speak(self):\n",
        "        print(\"Bark!\")\n",
        "\n",
        "# Example usage\n",
        "animal = Animal()\n",
        "animal.speak()  # Output: Generic animal sound\n",
        "\n",
        "dog = Dog()\n",
        "dog.speak()"
      ]
    },
    {
      "cell_type": "markdown",
      "source": [
        "# 2. Write a program to create an abstract class Shape with a method area(). Derive classes Circle and Rectangle from it and implement the area() method in both."
      ],
      "metadata": {
        "id": "DP76Cnvt1vf_"
      }
    },
    {
      "cell_type": "code",
      "source": [
        "from abc import ABC, abstractmethod\n",
        "\n",
        "class Shape(ABC):\n",
        "    \"\"\"Abstract class for shapes.\"\"\"\n",
        "\n",
        "    @abstractmethod\n",
        "    def area(self):\n",
        "        \"\"\"Calculates and returns the area of the shape.\"\"\"\n",
        "        pass\n",
        "\n",
        "class Circle(Shape):\n",
        "    \"\"\"Class representing a circle.\"\"\"\n",
        "\n",
        "    def __init__(self, radius):\n",
        "        \"\"\"\n",
        "        Initializes a Circle object.\n",
        "\n",
        "        Args:\n",
        "            radius: The radius of the circle.\n",
        "        \"\"\"\n",
        "        self.radius = radius\n",
        "\n",
        "    def area(self):\n",
        "        \"\"\"Calculates and returns the area of the circle.\"\"\"\n",
        "        return 3.14159 * self.radius * self.radius\n",
        "\n",
        "class Rectangle(Shape):\n",
        "    \"\"\"Class representing a rectangle.\"\"\"\n",
        "\n",
        "    def __init__(self, width, height):\n",
        "        \"\"\"\n",
        "        Initializes a Rectangle object.\n",
        "\n",
        "        Args:\n",
        "            width: The width of the rectangle.\n",
        "            height: The height of the rectangle.\n",
        "        \"\"\"\n",
        "        self.width = width\n",
        "        self.height = height\n",
        "\n",
        "    def area(self):\n",
        "        \"\"\"Calculates and returns the area of the rectangle.\"\"\"\n",
        "        return self.width * self.height\n",
        "\n",
        "# Example usage\n",
        "circle = Circle(5)\n",
        "print(f\"Area of circle: {circle.area()}\")\n",
        "\n",
        "rectangle = Rectangle(4, 6)\n",
        "print(f\"Area of rectangle: {rectangle.area()}\")"
      ],
      "metadata": {
        "colab": {
          "base_uri": "https://localhost:8080/"
        },
        "id": "9Ztox6lY1rfW",
        "outputId": "fd6d96fe-67c9-4c69-d03b-7b2cf71f6760"
      },
      "execution_count": 2,
      "outputs": [
        {
          "output_type": "stream",
          "name": "stdout",
          "text": [
            "Area of circle: 78.53975\n",
            "Area of rectangle: 24\n"
          ]
        }
      ]
    },
    {
      "cell_type": "markdown",
      "source": [
        "# 3. Implement a multi-level inheritance scenario where a class Vehicle has an attribute type. Derive a class Car and further derive a class ElectricCar that adds a battery attribute."
      ],
      "metadata": {
        "id": "IQo4CvuE2AdZ"
      }
    },
    {
      "cell_type": "code",
      "source": [
        "class Vehicle:\n",
        "    \"\"\"Base class for all vehicles.\"\"\"\n",
        "\n",
        "    def __init__(self, type):\n",
        "        \"\"\"\n",
        "        Initializes a Vehicle object.\n",
        "\n",
        "        Args:\n",
        "            type: The type of the vehicle (e.g., \"car\", \"truck\", \"motorcycle\").\n",
        "        \"\"\"\n",
        "        self.type = type\n",
        "\n",
        "class Car(Vehicle):\n",
        "    \"\"\"Class representing a car.\"\"\"\n",
        "\n",
        "    def __init__(self, type, color):\n",
        "        \"\"\"\n",
        "        Initializes a Car object.\n",
        "\n",
        "        Args:\n",
        "            type: The type of the car (e.g., \"sedan\", \"SUV\", \"sports\").\n",
        "            color: The color of the car.\n",
        "        \"\"\"\n",
        "        super().__init__(type)\n",
        "        self.color = color\n",
        "\n",
        "class ElectricCar(Car):\n",
        "    \"\"\"Class representing an electric car.\"\"\"\n",
        "\n",
        "    def __init__(self, type, color, battery_capacity):\n",
        "        \"\"\"\n",
        "        Initializes an ElectricCar object.\n",
        "\n",
        "        Args:\n",
        "            type: The type of the electric car.\n",
        "            color: The color of the electric car.\n",
        "            battery_capacity: The battery capacity of the electric car.\n",
        "        \"\"\"\n",
        "        super().__init__(type, color)\n",
        "        self.battery_capacity = battery_capacity\n",
        "\n",
        "# Example usage\n",
        "my_car = Car(\"sedan\", \"red\")\n",
        "print(f\"My car is a {my_car.type} and its color is {my_car.color}\")\n",
        "\n",
        "my_electric_car = ElectricCar(\"SUV\", \"blue\", 75)\n",
        "print(f\"My electric car is a {my_electric_car.type}, its color is {my_electric_car.color}, and its battery capacity is {my_electric_car.battery_capacity} kWh\")"
      ],
      "metadata": {
        "colab": {
          "base_uri": "https://localhost:8080/"
        },
        "id": "OmYsHscK19Fs",
        "outputId": "b302753e-a8c9-45f1-cda5-71a9ab664fcb"
      },
      "execution_count": 3,
      "outputs": [
        {
          "output_type": "stream",
          "name": "stdout",
          "text": [
            "My car is a sedan and its color is red\n",
            "My electric car is a SUV, its color is blue, and its battery capacity is 75 kWh\n"
          ]
        }
      ]
    },
    {
      "cell_type": "markdown",
      "source": [
        "# 4. Implement a multi-level inheritance scenario where a class Vehicle has an attribute type. Derive a class Car and further derive a class ElectricCar that adds a battery attribute."
      ],
      "metadata": {
        "id": "WRGV0Sn-2SCS"
      }
    },
    {
      "cell_type": "code",
      "source": [
        "class Vehicle:\n",
        "    def __init__(self, type):\n",
        "        self.type = type\n",
        "\n",
        "class Car(Vehicle):\n",
        "    def __init__(self, type, color):\n",
        "        super().__init__(type)\n",
        "        self.color = color\n",
        "\n",
        "class ElectricCar(Car):\n",
        "    def __init__(self, type, color, battery_capacity):\n",
        "        super().__init__(type, color)\n",
        "        self.battery_capacity = battery_capacity\n",
        "\n",
        "# Example usage\n",
        "my_car = Car(\"sedan\", \"red\")\n",
        "print(f\"My car is a {my_car.type} and its color is {my_car.color}\")\n",
        "\n",
        "my_electric_car = ElectricCar(\"SUV\", \"blue\", 75)\n",
        "print(f\"My electric car is a {my_electric_car.type}, its color is {my_electric_car.color}, and its battery capacity is {my_electric_car.battery_capacity} kWh\")"
      ],
      "metadata": {
        "colab": {
          "base_uri": "https://localhost:8080/"
        },
        "id": "IaL98s9I2QoL",
        "outputId": "cfbbc7b5-e635-431a-c6bb-670397ad8b71"
      },
      "execution_count": 4,
      "outputs": [
        {
          "output_type": "stream",
          "name": "stdout",
          "text": [
            "My car is a sedan and its color is red\n",
            "My electric car is a SUV, its color is blue, and its battery capacity is 75 kWh\n"
          ]
        }
      ]
    },
    {
      "cell_type": "markdown",
      "source": [
        "# 5. Write a program to demonstrate encapsulation by creating a class BankAccount with private attributes balance and methods to deposit, withdraw, and check balance."
      ],
      "metadata": {
        "id": "Yf23tZ2o2f_1"
      }
    },
    {
      "cell_type": "code",
      "source": [
        "class BankAccount:\n",
        "    def __init__(self, initial_balance=0):\n",
        "        self.__balance = initial_balance  # Encapsulated balance\n",
        "\n",
        "    def deposit(self, amount):\n",
        "        if amount > 0:\n",
        "            self.__balance += amount\n",
        "            print(f\"Deposited ${amount}. New balance: ${self.__balance}\")\n",
        "        else:\n",
        "            print(\"Invalid deposit amount.\")\n",
        "\n",
        "    def withdraw(self, amount):\n",
        "        if 0 < amount <= self.__balance:\n",
        "            self.__balance -= amount\n",
        "            print(f\"Withdrew ${amount}. New balance: ${self.__balance}\")\n",
        "        else:\n",
        "            print(\"Insufficient balance or invalid withdrawal amount.\")\n",
        "\n",
        "    def get_balance(self):\n",
        "        return self.__balance\n",
        "\n",
        "# Create an instance of the BankAccount class\n",
        "account = BankAccount(1000)\n",
        "\n",
        "# Test deposit and withdrawal\n",
        "account.deposit(500)\n",
        "account.withdraw(200)\n",
        "\n",
        "# Check the balance\n",
        "print(f\"Current balance: ${account.get_balance()}\")"
      ],
      "metadata": {
        "colab": {
          "base_uri": "https://localhost:8080/"
        },
        "id": "SuG4vAnW2dSR",
        "outputId": "f16c57b8-d53a-4988-b53d-2695a8748735"
      },
      "execution_count": 5,
      "outputs": [
        {
          "output_type": "stream",
          "name": "stdout",
          "text": [
            "Deposited $500. New balance: $1500\n",
            "Withdrew $200. New balance: $1300\n",
            "Current balance: $1300\n"
          ]
        }
      ]
    },
    {
      "cell_type": "markdown",
      "source": [
        "# 6. Demonstrate runtime polymorphism using a method play() in a base class Instrument. Derive classes Guitar and Piano that implement their own version of play()."
      ],
      "metadata": {
        "id": "kT0CPUwD2rL9"
      }
    },
    {
      "cell_type": "code",
      "source": [
        "class Instrument:\n",
        "    def play(self):\n",
        "        pass  # Placeholder for the play() method\n",
        "\n",
        "class Guitar(Instrument):\n",
        "    def play(self):\n",
        "        print(\"Strumming the guitar...\")\n",
        "\n",
        "class Piano(Instrument):\n",
        "    def play(self):\n",
        "        print(\"Playing a melody on the piano...\")\n",
        "\n",
        "# Create instances of Guitar and Piano\n",
        "guitar = Guitar()\n",
        "piano = Piano()\n",
        "\n",
        "# Create a list of instruments\n",
        "instruments = [guitar, piano]\n",
        "\n",
        "# Play each instrument in the list\n",
        "for instrument in instruments:\n",
        "    instrument.play()"
      ],
      "metadata": {
        "colab": {
          "base_uri": "https://localhost:8080/"
        },
        "id": "qAyzBvCx2pXV",
        "outputId": "7bb8c0bb-93ae-4d96-9455-babe77bf1ed8"
      },
      "execution_count": 6,
      "outputs": [
        {
          "output_type": "stream",
          "name": "stdout",
          "text": [
            "Strumming the guitar...\n",
            "Playing a melody on the piano...\n"
          ]
        }
      ]
    },
    {
      "cell_type": "markdown",
      "source": [
        "# 7. Create a class MathOperations with a class method add_numbers() to add two numbers and a static method subtract_numbers() to subtract two numbers."
      ],
      "metadata": {
        "id": "p58q6IDQ23HP"
      }
    },
    {
      "cell_type": "code",
      "source": [
        "class MathOperations:\n",
        "    @classmethod\n",
        "    def add_numbers(cls, num1, num2):\n",
        "        \"\"\"Class method to add two numbers.\"\"\"\n",
        "        return num1 + num2\n",
        "\n",
        "    @staticmethod\n",
        "    def subtract_numbers(num1, num2):\n",
        "        \"\"\"Static method to subtract two numbers.\"\"\"\n",
        "        return num1 - num2\n",
        "\n",
        "# Example usage\n",
        "result_add = MathOperations.add_numbers(5, 3)\n",
        "print(\"Result of addition:\", result_add)\n",
        "\n",
        "result_subtract = MathOperations.subtract_numbers(10, 4)\n",
        "print(\"Result of subtraction:\", result_subtract)"
      ],
      "metadata": {
        "colab": {
          "base_uri": "https://localhost:8080/"
        },
        "id": "vnsJJOfn5bb1",
        "outputId": "fa62759b-c70c-4951-e18a-3de41d3df41c"
      },
      "execution_count": 22,
      "outputs": [
        {
          "output_type": "stream",
          "name": "stdout",
          "text": [
            "Result of addition: 8\n",
            "Result of subtraction: 6\n"
          ]
        }
      ]
    },
    {
      "cell_type": "markdown",
      "source": [
        "# 8. Implement a class Person with a class method to count the total number of persons created."
      ],
      "metadata": {
        "id": "qQSx8Koa3S4q"
      }
    },
    {
      "cell_type": "code",
      "source": [
        "class Person:\n",
        "    \"\"\"A class representing a person.\"\"\"\n",
        "\n",
        "    _total_persons = 0  # Class attribute to track total persons\n",
        "\n",
        "    def __init__(self, name):\n",
        "        \"\"\"\n",
        "        Initializes a Person object.\n",
        "\n",
        "        Args:\n",
        "            name: The name of the person.\n",
        "        \"\"\"\n",
        "        self.name = name\n",
        "        Person._total_persons += 1  # Increment total persons on object creation\n",
        "\n",
        "    @classmethod\n",
        "    def get_total_persons(cls):\n",
        "        \"\"\"Class method to get the total number of persons created.\"\"\"\n",
        "        return cls._total_persons\n",
        "\n",
        "# Create some Person objects\n",
        "person1 = Person(\"Alice\")\n",
        "person2 = Person(\"Bob\")\n",
        "person3 = Person(\"Charlie\")\n",
        "\n",
        "# Get the total number of persons\n",
        "total_persons = Person.get_total_persons()\n",
        "print(f\"Total number of persons created: {total_persons}\")"
      ],
      "metadata": {
        "colab": {
          "base_uri": "https://localhost:8080/"
        },
        "id": "K2vzyUNf3GYu",
        "outputId": "9e74f854-a25e-452c-b1fc-ceb7ad13df54"
      },
      "execution_count": 10,
      "outputs": [
        {
          "output_type": "stream",
          "name": "stdout",
          "text": [
            "Total number of persons created: 3\n"
          ]
        }
      ]
    },
    {
      "cell_type": "markdown",
      "source": [
        "# 9. Write a class Fraction with attributes numerator and denominator. Override the str method to display the fraction as \"numerator/denominator\"."
      ],
      "metadata": {
        "id": "4uqVFJc23h_D"
      }
    },
    {
      "cell_type": "code",
      "source": [
        "class Fraction:\n",
        "    \"\"\"A class representing a fraction.\"\"\"\n",
        "\n",
        "    def __init__(self, numerator, denominator=1):\n",
        "        \"\"\"\n",
        "        Initializes a Fraction object.\n",
        "\n",
        "        Args:\n",
        "            numerator: The numerator of the fraction.\n",
        "            denominator: The denominator of the fraction (defaults to 1).\n",
        "        \"\"\"\n",
        "        if denominator == 0:\n",
        "            raise ValueError(\"Denominator cannot be zero.\")\n",
        "        self.numerator = numerator\n",
        "        self.denominator = denominator\n",
        "\n",
        "    def __str__(self):\n",
        "        \"\"\"Returns a string representation of the fraction.\"\"\"\n",
        "        return f\"{self.numerator}/{self.denominator}\"\n",
        "\n",
        "# Example usage\n",
        "frac1 = Fraction(3, 4)\n",
        "frac2 = Fraction(1, 2)\n",
        "\n",
        "print(frac1)\n",
        "print(frac2)"
      ],
      "metadata": {
        "colab": {
          "base_uri": "https://localhost:8080/"
        },
        "id": "BDZ52nhD3Xq9",
        "outputId": "a6bb89fd-4ad1-4752-e0d2-36508e8d9e54"
      },
      "execution_count": 11,
      "outputs": [
        {
          "output_type": "stream",
          "name": "stdout",
          "text": [
            "3/4\n",
            "1/2\n"
          ]
        }
      ]
    },
    {
      "cell_type": "markdown",
      "source": [
        "# 10. Demonstrate operator overloading by creating a class Vector and overriding the add method to add two vectors."
      ],
      "metadata": {
        "id": "zUO-uqE03x6O"
      }
    },
    {
      "cell_type": "code",
      "source": [
        "class Vector:\n",
        "    def __init__(self, x, y):\n",
        "        self.x = x\n",
        "        self.y = y\n",
        "\n",
        "    def __add__(self, other):\n",
        "        \"\"\"Overloads the + operator to add two vectors.\"\"\"\n",
        "        return Vector(self.x + other.x, self.y + other.y)\n",
        "\n",
        "    def __str__(self):\n",
        "        \"\"\"Returns a string representation of the vector.\"\"\"\n",
        "        return f\"({self.x}, {self.y})\"\n",
        "\n",
        "# Create two Vector objects\n",
        "v1 = Vector(2, 3)\n",
        "v2 = Vector(1, -1)\n",
        "\n",
        "# Add the vectors using the overloaded + operator\n",
        "v3 = v1 + v2\n",
        "\n",
        "# Print the resulting vector\n",
        "print(\"v1:\", v1)\n",
        "print(\"v2:\", v2)\n",
        "print(\"v1 + v2:\", v3)"
      ],
      "metadata": {
        "colab": {
          "base_uri": "https://localhost:8080/"
        },
        "id": "C6F-mtOj3uDk",
        "outputId": "042c25c9-7361-4c14-f64f-cd1eea535765"
      },
      "execution_count": 12,
      "outputs": [
        {
          "output_type": "stream",
          "name": "stdout",
          "text": [
            "v1: (2, 3)\n",
            "v2: (1, -1)\n",
            "v1 + v2: (3, 2)\n"
          ]
        }
      ]
    },
    {
      "cell_type": "markdown",
      "source": [
        "# 11. Create a class Person with attributes name and age. Add a method greet() that prints \"Hello, my name is {name} and I am {age} years old.\""
      ],
      "metadata": {
        "id": "81yi_7ec38RU"
      }
    },
    {
      "cell_type": "code",
      "source": [
        "class Person:\n",
        "    \"\"\"A class representing a person.\"\"\"\n",
        "\n",
        "    def __init__(self, name, age):\n",
        "        \"\"\"\n",
        "        Initializes a Person object.\n",
        "\n",
        "        Args:\n",
        "            name: The name of the person.\n",
        "            age: The age of the person.\n",
        "        \"\"\"\n",
        "        self.name = name\n",
        "        self.age = age\n",
        "\n",
        "    def greet(self):\n",
        "        \"\"\"Prints a greeting message.\"\"\"\n",
        "        print(f\"Hello, my name is {self.name} and I am {self.age} years old.\")\n",
        "\n",
        "# Create an instance of the Person class\n",
        "person1 = Person(\"Alice\", 30)\n",
        "\n",
        "# Call the greet() method\n",
        "person1.greet()"
      ],
      "metadata": {
        "colab": {
          "base_uri": "https://localhost:8080/"
        },
        "id": "rkPMR9T235ht",
        "outputId": "58369c00-595b-49dd-9dc3-943c3937412b"
      },
      "execution_count": 13,
      "outputs": [
        {
          "output_type": "stream",
          "name": "stdout",
          "text": [
            "Hello, my name is Alice and I am 30 years old.\n"
          ]
        }
      ]
    },
    {
      "cell_type": "markdown",
      "source": [
        "# 12. Implement a class Student with attributes name and grades. Create a method average_grade() to compute the average of the grades."
      ],
      "metadata": {
        "id": "6WSCCVrU4IXm"
      }
    },
    {
      "cell_type": "code",
      "source": [
        "class Student:\n",
        "    \"\"\"A class representing a student with name and grades.\"\"\"\n",
        "\n",
        "    def __init__(self, name, grades):\n",
        "        \"\"\"\n",
        "        Initializes a Student object.\n",
        "\n",
        "        Args:\n",
        "            name: The name of the student.\n",
        "            grades: A list of grades for the student.\n",
        "        \"\"\"\n",
        "        self.name = name\n",
        "        self.grades = grades\n",
        "\n",
        "    def average_grade(self):\n",
        "        \"\"\"Calculates the average grade of the student.\"\"\"\n",
        "        if not self.grades:\n",
        "            return 0  # Handle empty list of grades\n",
        "        return sum(self.grades) / len(self.grades)\n",
        "\n",
        "# Example usage:\n",
        "student1 = Student(\"Alice\", [90, 85, 92])\n",
        "student2 = Student(\"Bob\", [78, 88, 80])\n",
        "\n",
        "print(f\"{student1.name}'s average grade: {student1.average_grade()}\")\n",
        "print(f\"{student2.name}'s average grade: {student2.average_grade()}\")"
      ],
      "metadata": {
        "colab": {
          "base_uri": "https://localhost:8080/"
        },
        "id": "IaDVg9CE4G7x",
        "outputId": "1e73b255-f74e-4be5-8daa-97f23ec1ee87"
      },
      "execution_count": 14,
      "outputs": [
        {
          "output_type": "stream",
          "name": "stdout",
          "text": [
            "Alice's average grade: 89.0\n",
            "Bob's average grade: 82.0\n"
          ]
        }
      ]
    },
    {
      "cell_type": "markdown",
      "source": [
        "# 13. Create a class Rectangle with methods set_dimensions() to set the dimensions and area() to calculate the area."
      ],
      "metadata": {
        "id": "M_sHB-Ca4TH_"
      }
    },
    {
      "cell_type": "code",
      "source": [
        "class Rectangle:\n",
        "    def __init__(self):\n",
        "        self.width = 0\n",
        "        self.height = 0\n",
        "\n",
        "    def set_dimensions(self, width, height):\n",
        "        \"\"\"Sets the width and height of the rectangle.\"\"\"\n",
        "        self.width = width\n",
        "        self.height = height\n",
        "\n",
        "    def area(self):\n",
        "        \"\"\"Calculates and returns the area of the rectangle.\"\"\"\n",
        "        return self.width * self.height\n",
        "\n",
        "# Example usage\n",
        "my_rectangle = Rectangle()\n",
        "my_rectangle.set_dimensions(5, 3)\n",
        "print(\"Area of the rectangle:\", my_rectangle.area())"
      ],
      "metadata": {
        "colab": {
          "base_uri": "https://localhost:8080/"
        },
        "id": "oP4I1--P4RTL",
        "outputId": "194f14ec-c608-41ab-bc54-1b1172c885e8"
      },
      "execution_count": 15,
      "outputs": [
        {
          "output_type": "stream",
          "name": "stdout",
          "text": [
            "Area of the rectangle: 15\n"
          ]
        }
      ]
    },
    {
      "cell_type": "markdown",
      "source": [
        "# 14. Create a class Employee with a method calculate_salary() that computes the salary based on hours worked and hourly rate. Create a derived class Manager that adds a bonus to the salary."
      ],
      "metadata": {
        "id": "mwz8LjHe4doo"
      }
    },
    {
      "cell_type": "code",
      "source": [
        "class Employee:\n",
        "    def __init__(self, hours_worked, hourly_rate):\n",
        "        self.hours_worked = hours_worked\n",
        "        self.hourly_rate = hourly_rate\n",
        "\n",
        "    def calculate_salary(self):\n",
        "        return self.hours_worked * self.hourly_rate\n",
        "\n",
        "class Manager(Employee):\n",
        "    def __init__(self, hours_worked, hourly_rate, bonus):\n",
        "        super().__init__(hours_worked, hourly_rate)\n",
        "        self.bonus = bonus\n",
        "\n",
        "    def calculate_salary(self):\n",
        "        return super().calculate_salary() + self.bonus\n",
        "\n",
        "# Example usage\n",
        "employee = Employee(40, 25)\n",
        "manager = Manager(45, 30, 500)\n",
        "\n",
        "print(f\"Employee's salary: {employee.calculate_salary()}\")\n",
        "print(f\"Manager's salary: {manager.calculate_salary()}\")"
      ],
      "metadata": {
        "colab": {
          "base_uri": "https://localhost:8080/"
        },
        "id": "EFLteun24cYl",
        "outputId": "ddbb5495-8edf-4449-9d14-e0c77b599e57"
      },
      "execution_count": 16,
      "outputs": [
        {
          "output_type": "stream",
          "name": "stdout",
          "text": [
            "Employee's salary: 1000\n",
            "Manager's salary: 1850\n"
          ]
        }
      ]
    },
    {
      "cell_type": "markdown",
      "source": [
        "# 15. Create a class Product with attributes name, price, and quantity. Implement a method total_price() that calculates the total price of the product."
      ],
      "metadata": {
        "id": "Z6E8cYgP4plQ"
      }
    },
    {
      "cell_type": "code",
      "source": [
        "class Product:\n",
        "    def __init__(self, name, price, quantity):\n",
        "        self.name = name\n",
        "        self.price = price\n",
        "        self.quantity = quantity\n",
        "\n",
        "    def total_price(self):\n",
        "        return self.price * self.quantity\n",
        "\n",
        "# Example usage\n",
        "product1 = Product(\"Laptop\", 1200, 2)\n",
        "product2 = Product(\"Mouse\", 20, 3)\n",
        "\n",
        "print(f\"{product1.name} total price: ${product1.total_price()}\")\n",
        "print(f\"{product2.name} total price: ${product2.total_price()}\")"
      ],
      "metadata": {
        "colab": {
          "base_uri": "https://localhost:8080/"
        },
        "id": "ZP49Xzdp4mRk",
        "outputId": "69b2500b-ccd7-4d6a-ddf2-ec502a7c8bfd"
      },
      "execution_count": 17,
      "outputs": [
        {
          "output_type": "stream",
          "name": "stdout",
          "text": [
            "Laptop total price: $2400\n",
            "Mouse total price: $60\n"
          ]
        }
      ]
    },
    {
      "cell_type": "markdown",
      "source": [
        "# 16. Create a class Animal with an abstract method sound(). Create two derived classes Cow and Sheep that implement the sound() method."
      ],
      "metadata": {
        "id": "vCTq2aY-4yHU"
      }
    },
    {
      "cell_type": "code",
      "source": [
        "from abc import ABC, abstractmethod\n",
        "\n",
        "class Animal(ABC):\n",
        "    @abstractmethod\n",
        "    def sound(self):\n",
        "        pass\n",
        "\n",
        "class Cow(Animal):\n",
        "    def sound(self):\n",
        "        print(\"Moo\")\n",
        "\n",
        "class Sheep(Animal):\n",
        "    def sound(self):\n",
        "        print(\"Baa\")\n",
        "\n",
        "# Example usage\n",
        "cow = Cow()\n",
        "cow.sound()\n",
        "\n",
        "sheep = Sheep()\n",
        "sheep.sound()"
      ],
      "metadata": {
        "colab": {
          "base_uri": "https://localhost:8080/"
        },
        "id": "FZmYT96x4wxd",
        "outputId": "1d757e16-fc9a-45d7-915f-87c70aca9038"
      },
      "execution_count": 18,
      "outputs": [
        {
          "output_type": "stream",
          "name": "stdout",
          "text": [
            "Moo\n",
            "Baa\n"
          ]
        }
      ]
    },
    {
      "cell_type": "markdown",
      "source": [
        "# 17. Create a class Book with attributes title, author, and year_published. Add a method get_book_info() that returns a formatted string with the book's details."
      ],
      "metadata": {
        "id": "MODpdwqQ4_zC"
      }
    },
    {
      "cell_type": "code",
      "source": [
        "class Book:\n",
        "    def __init__(self, title, author, year_published):\n",
        "        \"\"\"\n",
        "        Initializes a Book object.\n",
        "\n",
        "        Args:\n",
        "            title: The title of the book.\n",
        "            author: The author of the book.\n",
        "            year_published: The year the book was published.\n",
        "        \"\"\"\n",
        "        self.title = title\n",
        "        self.author = author\n",
        "        self.year_published = year_published\n",
        "\n",
        "    def get_book_info(self):\n",
        "        \"\"\"\n",
        "        Returns a formatted string with the book's details.\n",
        "        \"\"\"\n",
        "        return f\"Title: {self.title}\\nAuthor: {self.author}\\nYear Published: {self.year_published}\"\n",
        "\n",
        "# Example usage\n",
        "book1 = Book(\"The Lord of the Rings\", \"J.R.R. Tolkien\", 1954)\n",
        "print(book1.get_book_info())"
      ],
      "metadata": {
        "colab": {
          "base_uri": "https://localhost:8080/"
        },
        "id": "EtM0djhx4-Pd",
        "outputId": "86ad8b7e-f50b-4257-db6b-36813d719583"
      },
      "execution_count": 19,
      "outputs": [
        {
          "output_type": "stream",
          "name": "stdout",
          "text": [
            "Title: The Lord of the Rings\n",
            "Author: J.R.R. Tolkien\n",
            "Year Published: 1954\n"
          ]
        }
      ]
    },
    {
      "cell_type": "markdown",
      "source": [
        "# 18. Create a class House with attributes address and price. Create a derived class Mansion that adds an attribute number_of_rooms."
      ],
      "metadata": {
        "id": "d3bfdkC75LbT"
      }
    },
    {
      "cell_type": "code",
      "source": [
        "class House:\n",
        "    def __init__(self, address, price):\n",
        "        self.address = address\n",
        "        self.price = price\n",
        "\n",
        "    def __str__(self):\n",
        "        return f\"Address: {self.address}\\nPrice: ${self.price}\"\n",
        "\n",
        "class Mansion(House):\n",
        "    def __init__(self, address, price, number_of_rooms):\n",
        "        super().__init__(address, price)\n",
        "        self.number_of_rooms = number_of_rooms\n",
        "\n",
        "    def __str__(self):\n",
        "        return f\"{super().__str__()}\\nNumber of Rooms: {self.number_of_rooms}\"\n",
        "\n",
        "# Example usage\n",
        "house1 = House(\"123 Main St\", 200000)\n",
        "print(house1)\n",
        "\n",
        "mansion1 = Mansion(\"555 Park Ave\", 1000000, 10)\n",
        "print(mansion1)"
      ],
      "metadata": {
        "colab": {
          "base_uri": "https://localhost:8080/"
        },
        "id": "H5ND5wDx5KLm",
        "outputId": "4fcf92c7-86a6-47fd-cd87-fdcad1bc3781"
      },
      "execution_count": 20,
      "outputs": [
        {
          "output_type": "stream",
          "name": "stdout",
          "text": [
            "Address: 123 Main St\n",
            "Price: $200000\n",
            "Address: 555 Park Ave\n",
            "Price: $1000000\n",
            "Number of Rooms: 10\n"
          ]
        }
      ]
    },
    {
      "cell_type": "code",
      "source": [],
      "metadata": {
        "id": "dWYpryaW5VxE"
      },
      "execution_count": null,
      "outputs": []
    }
  ]
}